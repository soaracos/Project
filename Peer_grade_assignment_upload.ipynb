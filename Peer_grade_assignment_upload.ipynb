{
 "cells": [
  {
   "cell_type": "markdown",
   "metadata": {},
   "source": [
    "<center>\n",
    "    <img src=\"https://cf-courses-data.s3.us.cloud-object-storage.appdomain.cloud/IBMDeveloperSkillsNetwork-PY0220EN-SkillsNetwork/labs/project/Images/SN_logo.png\" width=\"300\" alt=\"cognitiveclass.ai logo\">\n",
    "</center>\n"
   ]
  },
  {
   "cell_type": "markdown",
   "metadata": {},
   "source": [
    "<h1>Extracting Stock Data Using a Python Library</h1>\n"
   ]
  },
  {
   "cell_type": "markdown",
   "metadata": {},
   "source": [
    "A company's stock share is a piece of the company more precisely:\n",
    "<p><b>A stock (also known as equity) is a security that represents the ownership of a fraction of a corporation. This\n",
    "entitles the owner of the stock to a proportion of the corporation's assets and profits equal to how much stock they own. Units of stock are called \"shares.\" [1]</p></b>\n",
    "\n",
    "An investor can buy a stock and sell it later. If the stock price increases, the investor profits, If it decreases,the investor with incur a loss.  Determining the stock price is complex; it depends on the number of outstanding shares, the size of the company's future profits, and much more. People trade stocks throughout the day the stock ticker is a report of the price of a certain stock, updated continuously throughout the trading session by the various stock market exchanges. \n",
    "<p>You are a data scientist working for a hedge fund; it's your job to determine any suspicious stock activity. In this lab you will extract stock data using a Python library. We will use the <coode>yfinance</code> library, it allows us to extract data for stocks returning data in a pandas dataframe. You will use the lab to extract.</p>\n"
   ]
  },
  {
   "cell_type": "markdown",
   "metadata": {},
   "source": [
    "<h2>Table of Contents</h2>\n",
    "<div class=\"alert alert-block alert-info\" style=\"margin-top: 20px\">\n",
    "    <ul>\n",
    "        <li>Using yfinance to Extract Stock Info</li>\n",
    "        <li>Using yfinance to Extract Historical Share Price Data</li>\n",
    "        <li>Using yfinance to Extract Historical Dividends Data</li>\n",
    "        <li>Exercise</li>\n",
    "    </ul>\n",
    "<p>\n",
    "    Estimated Time Needed: <strong>30 min</strong></p>\n",
    "</div>\n",
    "\n",
    "<hr>\n"
   ]
  },
  {
   "cell_type": "code",
   "execution_count": 2,
   "metadata": {},
   "outputs": [
    {
     "name": "stdout",
     "output_type": "stream",
     "text": [
      "Requirement already satisfied: yfinance==0.2.4 in c:\\users\\dell\\anaconda3\\lib\\site-packages (0.2.4)\n",
      "Requirement already satisfied: pandas>=1.3.0 in c:\\users\\dell\\anaconda3\\lib\\site-packages (from yfinance==0.2.4) (1.5.3)\n",
      "Requirement already satisfied: numpy>=1.16.5 in c:\\users\\dell\\anaconda3\\lib\\site-packages (from yfinance==0.2.4) (1.24.3)\n",
      "Requirement already satisfied: requests>=2.26 in c:\\users\\dell\\anaconda3\\lib\\site-packages (from yfinance==0.2.4) (2.31.0)\n",
      "Requirement already satisfied: multitasking>=0.0.7 in c:\\users\\dell\\anaconda3\\lib\\site-packages (from yfinance==0.2.4) (0.0.11)\n",
      "Requirement already satisfied: lxml>=4.9.1 in c:\\users\\dell\\anaconda3\\lib\\site-packages (from yfinance==0.2.4) (4.9.2)\n",
      "Requirement already satisfied: appdirs>=1.4.4 in c:\\users\\dell\\anaconda3\\lib\\site-packages (from yfinance==0.2.4) (1.4.4)\n",
      "Requirement already satisfied: pytz>=2022.5 in c:\\users\\dell\\anaconda3\\lib\\site-packages (from yfinance==0.2.4) (2022.7)\n",
      "Requirement already satisfied: frozendict>=2.3.4 in c:\\users\\dell\\anaconda3\\lib\\site-packages (from yfinance==0.2.4) (2.4.0)\n",
      "Requirement already satisfied: cryptography>=3.3.2 in c:\\users\\dell\\anaconda3\\lib\\site-packages (from yfinance==0.2.4) (39.0.1)\n",
      "Requirement already satisfied: beautifulsoup4>=4.11.1 in c:\\users\\dell\\anaconda3\\lib\\site-packages (from yfinance==0.2.4) (4.12.2)\n",
      "Requirement already satisfied: html5lib>=1.1 in c:\\users\\dell\\anaconda3\\lib\\site-packages (from yfinance==0.2.4) (1.1)\n",
      "Requirement already satisfied: soupsieve>1.2 in c:\\users\\dell\\anaconda3\\lib\\site-packages (from beautifulsoup4>=4.11.1->yfinance==0.2.4) (2.4)\n",
      "Requirement already satisfied: cffi>=1.12 in c:\\users\\dell\\anaconda3\\lib\\site-packages (from cryptography>=3.3.2->yfinance==0.2.4) (1.15.1)\n",
      "Requirement already satisfied: six>=1.9 in c:\\users\\dell\\anaconda3\\lib\\site-packages (from html5lib>=1.1->yfinance==0.2.4) (1.16.0)\n",
      "Requirement already satisfied: webencodings in c:\\users\\dell\\anaconda3\\lib\\site-packages (from html5lib>=1.1->yfinance==0.2.4) (0.5.1)\n",
      "Requirement already satisfied: python-dateutil>=2.8.1 in c:\\users\\dell\\anaconda3\\lib\\site-packages (from pandas>=1.3.0->yfinance==0.2.4) (2.8.2)\n",
      "Requirement already satisfied: charset-normalizer<4,>=2 in c:\\users\\dell\\anaconda3\\lib\\site-packages (from requests>=2.26->yfinance==0.2.4) (2.0.4)\n",
      "Requirement already satisfied: idna<4,>=2.5 in c:\\users\\dell\\anaconda3\\lib\\site-packages (from requests>=2.26->yfinance==0.2.4) (3.4)\n",
      "Requirement already satisfied: urllib3<3,>=1.21.1 in c:\\users\\dell\\anaconda3\\lib\\site-packages (from requests>=2.26->yfinance==0.2.4) (1.26.16)\n",
      "Requirement already satisfied: certifi>=2017.4.17 in c:\\users\\dell\\anaconda3\\lib\\site-packages (from requests>=2.26->yfinance==0.2.4) (2023.5.7)\n",
      "Requirement already satisfied: pycparser in c:\\users\\dell\\anaconda3\\lib\\site-packages (from cffi>=1.12->cryptography>=3.3.2->yfinance==0.2.4) (2.21)\n"
     ]
    }
   ],
   "source": [
    "!pip install yfinance==0.2.4\n",
    "#!pip install pandas==1.3.3"
   ]
  },
  {
   "cell_type": "code",
   "execution_count": 7,
   "metadata": {},
   "outputs": [],
   "source": [
    "import yfinance as yf\n",
    "import pandas as pd"
   ]
  },
  {
   "cell_type": "markdown",
   "metadata": {},
   "source": [
    "## Using the yfinance Library to Extract Stock Data\n"
   ]
  },
  {
   "cell_type": "markdown",
   "metadata": {},
   "source": [
    "Using the `Ticker` module we can create an object that will allow us to access functions to extract data. To do this we need to provide the ticker symbol for the stock, here the company is Apple and the ticker symbol is ``.\n"
   ]
  },
  {
   "cell_type": "markdown",
   "metadata": {},
   "source": [
    "Question 1 - Extracting Tesla Stock Data Using yfinance - 2 Points"
   ]
  },
  {
   "cell_type": "code",
   "execution_count": 27,
   "metadata": {},
   "outputs": [],
   "source": [
    "TSLA = yf.Ticker(\"TSLA\")\n"
   ]
  },
  {
   "cell_type": "code",
   "execution_count": 28,
   "metadata": {
    "tags": []
   },
   "outputs": [],
   "source": [
    "Tesla_stock = yf.download('TSLA',start='2020-01-01',end='2024-01-01', progress= False)"
   ]
  },
  {
   "cell_type": "code",
   "execution_count": 29,
   "metadata": {
    "tags": []
   },
   "outputs": [
    {
     "data": {
      "text/html": [
       "<div>\n",
       "<style scoped>\n",
       "    .dataframe tbody tr th:only-of-type {\n",
       "        vertical-align: middle;\n",
       "    }\n",
       "\n",
       "    .dataframe tbody tr th {\n",
       "        vertical-align: top;\n",
       "    }\n",
       "\n",
       "    .dataframe thead th {\n",
       "        text-align: right;\n",
       "    }\n",
       "</style>\n",
       "<table border=\"1\" class=\"dataframe\">\n",
       "  <thead>\n",
       "    <tr style=\"text-align: right;\">\n",
       "      <th></th>\n",
       "      <th>Open</th>\n",
       "      <th>High</th>\n",
       "      <th>Low</th>\n",
       "      <th>Close</th>\n",
       "      <th>Adj Close</th>\n",
       "      <th>Volume</th>\n",
       "    </tr>\n",
       "    <tr>\n",
       "      <th>Date</th>\n",
       "      <th></th>\n",
       "      <th></th>\n",
       "      <th></th>\n",
       "      <th></th>\n",
       "      <th></th>\n",
       "      <th></th>\n",
       "    </tr>\n",
       "  </thead>\n",
       "  <tbody>\n",
       "    <tr>\n",
       "      <th>2020-01-02 00:00:00-05:00</th>\n",
       "      <td>28.299999</td>\n",
       "      <td>28.713333</td>\n",
       "      <td>28.114000</td>\n",
       "      <td>28.684000</td>\n",
       "      <td>28.684000</td>\n",
       "      <td>142981500</td>\n",
       "    </tr>\n",
       "    <tr>\n",
       "      <th>2020-01-03 00:00:00-05:00</th>\n",
       "      <td>29.366667</td>\n",
       "      <td>30.266666</td>\n",
       "      <td>29.128000</td>\n",
       "      <td>29.534000</td>\n",
       "      <td>29.534000</td>\n",
       "      <td>266677500</td>\n",
       "    </tr>\n",
       "    <tr>\n",
       "      <th>2020-01-06 00:00:00-05:00</th>\n",
       "      <td>29.364668</td>\n",
       "      <td>30.104000</td>\n",
       "      <td>29.333332</td>\n",
       "      <td>30.102667</td>\n",
       "      <td>30.102667</td>\n",
       "      <td>151995000</td>\n",
       "    </tr>\n",
       "    <tr>\n",
       "      <th>2020-01-07 00:00:00-05:00</th>\n",
       "      <td>30.760000</td>\n",
       "      <td>31.441999</td>\n",
       "      <td>30.224001</td>\n",
       "      <td>31.270666</td>\n",
       "      <td>31.270666</td>\n",
       "      <td>268231500</td>\n",
       "    </tr>\n",
       "    <tr>\n",
       "      <th>2020-01-08 00:00:00-05:00</th>\n",
       "      <td>31.580000</td>\n",
       "      <td>33.232666</td>\n",
       "      <td>31.215334</td>\n",
       "      <td>32.809334</td>\n",
       "      <td>32.809334</td>\n",
       "      <td>467164500</td>\n",
       "    </tr>\n",
       "  </tbody>\n",
       "</table>\n",
       "</div>"
      ],
      "text/plain": [
       "                                Open       High        Low      Close  \\\n",
       "Date                                                                    \n",
       "2020-01-02 00:00:00-05:00  28.299999  28.713333  28.114000  28.684000   \n",
       "2020-01-03 00:00:00-05:00  29.366667  30.266666  29.128000  29.534000   \n",
       "2020-01-06 00:00:00-05:00  29.364668  30.104000  29.333332  30.102667   \n",
       "2020-01-07 00:00:00-05:00  30.760000  31.441999  30.224001  31.270666   \n",
       "2020-01-08 00:00:00-05:00  31.580000  33.232666  31.215334  32.809334   \n",
       "\n",
       "                           Adj Close     Volume  \n",
       "Date                                             \n",
       "2020-01-02 00:00:00-05:00  28.684000  142981500  \n",
       "2020-01-03 00:00:00-05:00  29.534000  266677500  \n",
       "2020-01-06 00:00:00-05:00  30.102667  151995000  \n",
       "2020-01-07 00:00:00-05:00  31.270666  268231500  \n",
       "2020-01-08 00:00:00-05:00  32.809334  467164500  "
      ]
     },
     "execution_count": 29,
     "metadata": {},
     "output_type": "execute_result"
    }
   ],
   "source": [
    "Tesla_stock.head()"
   ]
  },
  {
   "cell_type": "code",
   "execution_count": 30,
   "metadata": {
    "tags": []
   },
   "outputs": [
    {
     "data": {
      "text/html": [
       "<div>\n",
       "<style scoped>\n",
       "    .dataframe tbody tr th:only-of-type {\n",
       "        vertical-align: middle;\n",
       "    }\n",
       "\n",
       "    .dataframe tbody tr th {\n",
       "        vertical-align: top;\n",
       "    }\n",
       "\n",
       "    .dataframe thead th {\n",
       "        text-align: right;\n",
       "    }\n",
       "</style>\n",
       "<table border=\"1\" class=\"dataframe\">\n",
       "  <thead>\n",
       "    <tr style=\"text-align: right;\">\n",
       "      <th></th>\n",
       "      <th>Open</th>\n",
       "      <th>High</th>\n",
       "      <th>Low</th>\n",
       "      <th>Close</th>\n",
       "      <th>Volume</th>\n",
       "      <th>Dividends</th>\n",
       "      <th>Stock Splits</th>\n",
       "    </tr>\n",
       "    <tr>\n",
       "      <th>Date</th>\n",
       "      <th></th>\n",
       "      <th></th>\n",
       "      <th></th>\n",
       "      <th></th>\n",
       "      <th></th>\n",
       "      <th></th>\n",
       "      <th></th>\n",
       "    </tr>\n",
       "  </thead>\n",
       "  <tbody>\n",
       "    <tr>\n",
       "      <th>2010-06-29 00:00:00-04:00</th>\n",
       "      <td>1.266667</td>\n",
       "      <td>1.666667</td>\n",
       "      <td>1.169333</td>\n",
       "      <td>1.592667</td>\n",
       "      <td>281494500</td>\n",
       "      <td>0.0</td>\n",
       "      <td>0.0</td>\n",
       "    </tr>\n",
       "    <tr>\n",
       "      <th>2010-06-30 00:00:00-04:00</th>\n",
       "      <td>1.719333</td>\n",
       "      <td>2.028000</td>\n",
       "      <td>1.553333</td>\n",
       "      <td>1.588667</td>\n",
       "      <td>257806500</td>\n",
       "      <td>0.0</td>\n",
       "      <td>0.0</td>\n",
       "    </tr>\n",
       "    <tr>\n",
       "      <th>2010-07-01 00:00:00-04:00</th>\n",
       "      <td>1.666667</td>\n",
       "      <td>1.728000</td>\n",
       "      <td>1.351333</td>\n",
       "      <td>1.464000</td>\n",
       "      <td>123282000</td>\n",
       "      <td>0.0</td>\n",
       "      <td>0.0</td>\n",
       "    </tr>\n",
       "    <tr>\n",
       "      <th>2010-07-02 00:00:00-04:00</th>\n",
       "      <td>1.533333</td>\n",
       "      <td>1.540000</td>\n",
       "      <td>1.247333</td>\n",
       "      <td>1.280000</td>\n",
       "      <td>77097000</td>\n",
       "      <td>0.0</td>\n",
       "      <td>0.0</td>\n",
       "    </tr>\n",
       "    <tr>\n",
       "      <th>2010-07-06 00:00:00-04:00</th>\n",
       "      <td>1.333333</td>\n",
       "      <td>1.333333</td>\n",
       "      <td>1.055333</td>\n",
       "      <td>1.074000</td>\n",
       "      <td>103003500</td>\n",
       "      <td>0.0</td>\n",
       "      <td>0.0</td>\n",
       "    </tr>\n",
       "  </tbody>\n",
       "</table>\n",
       "</div>"
      ],
      "text/plain": [
       "                               Open      High       Low     Close     Volume  \\\n",
       "Date                                                                           \n",
       "2010-06-29 00:00:00-04:00  1.266667  1.666667  1.169333  1.592667  281494500   \n",
       "2010-06-30 00:00:00-04:00  1.719333  2.028000  1.553333  1.588667  257806500   \n",
       "2010-07-01 00:00:00-04:00  1.666667  1.728000  1.351333  1.464000  123282000   \n",
       "2010-07-02 00:00:00-04:00  1.533333  1.540000  1.247333  1.280000   77097000   \n",
       "2010-07-06 00:00:00-04:00  1.333333  1.333333  1.055333  1.074000  103003500   \n",
       "\n",
       "                           Dividends  Stock Splits  \n",
       "Date                                                \n",
       "2010-06-29 00:00:00-04:00        0.0           0.0  \n",
       "2010-06-30 00:00:00-04:00        0.0           0.0  \n",
       "2010-07-01 00:00:00-04:00        0.0           0.0  \n",
       "2010-07-02 00:00:00-04:00        0.0           0.0  \n",
       "2010-07-06 00:00:00-04:00        0.0           0.0  "
      ]
     },
     "execution_count": 30,
     "metadata": {},
     "output_type": "execute_result"
    }
   ],
   "source": [
    "TSLA = yf.Ticker(\"TSLA\")\n",
    "tsla_share_price_data = TSLA.history(period=\"max\")\n",
    "tsla_share_price_data.head()"
   ]
  },
  {
   "cell_type": "markdown",
   "metadata": {},
   "source": [
    "Question 2 - Extracting Tesla Reven\n",
    "ue Data Using Webscraping - 1 Points"
   ]
  },
  {
   "cell_type": "code",
   "execution_count": 4,
   "metadata": {
    "tags": []
   },
   "outputs": [],
   "source": [
    "import requests \n",
    "from bs4 import BeautifulSoup"
   ]
  },
  {
   "cell_type": "code",
   "execution_count": 15,
   "metadata": {
    "tags": []
   },
   "outputs": [],
   "source": [
    "#url = 'https://finance.yahoo.com/quote/TSLA/financials?p=TSLA'"
   ]
  },
  {
   "cell_type": "code",
   "execution_count": 29,
   "metadata": {
    "tags": []
   },
   "outputs": [
    {
     "name": "stdout",
     "output_type": "stream",
     "text": [
      "Collecting seleniumNote: you may need to restart the kernel to use updated packages.\n",
      "\n",
      "  Downloading selenium-4.16.0-py3-none-any.whl (10.0 MB)\n",
      "                                              0.0/10.0 MB ? eta -:--:--\n",
      "                                              0.2/10.0 MB 4.6 MB/s eta 0:00:03\n",
      "     --                                       0.7/10.0 MB 6.9 MB/s eta 0:00:02\n",
      "     ---                                      1.0/10.0 MB 6.9 MB/s eta 0:00:02\n",
      "     -----                                    1.4/10.0 MB 7.4 MB/s eta 0:00:02\n",
      "     -------                                  1.8/10.0 MB 8.0 MB/s eta 0:00:02\n",
      "     --------                                 2.1/10.0 MB 7.4 MB/s eta 0:00:02\n",
      "     ----------                               2.5/10.0 MB 8.1 MB/s eta 0:00:01\n",
      "     -----------                              2.9/10.0 MB 8.0 MB/s eta 0:00:01\n",
      "     -------------                            3.5/10.0 MB 8.2 MB/s eta 0:00:01\n",
      "     ---------------                          4.0/10.0 MB 8.4 MB/s eta 0:00:01\n",
      "     -----------------                        4.4/10.0 MB 8.6 MB/s eta 0:00:01\n",
      "     -------------------                      4.9/10.0 MB 8.7 MB/s eta 0:00:01\n",
      "     ---------------------                    5.4/10.0 MB 8.9 MB/s eta 0:00:01\n",
      "     -----------------------                  6.0/10.0 MB 9.1 MB/s eta 0:00:01\n",
      "     --------------------------               6.5/10.0 MB 9.2 MB/s eta 0:00:01\n",
      "     ----------------------------             7.0/10.0 MB 9.4 MB/s eta 0:00:01\n",
      "     ------------------------------           7.5/10.0 MB 9.4 MB/s eta 0:00:01\n",
      "     -------------------------------          8.0/10.0 MB 9.4 MB/s eta 0:00:01\n",
      "     ----------------------------------       8.5/10.0 MB 9.5 MB/s eta 0:00:01\n",
      "     --------------------------------------   9.6/10.0 MB 10.2 MB/s eta 0:00:01\n",
      "     --------------------------------------  10.0/10.0 MB 10.4 MB/s eta 0:00:01\n",
      "     ---------------------------------------- 10.0/10.0 MB 9.8 MB/s eta 0:00:00\n",
      "Requirement already satisfied: urllib3[socks]<3,>=1.26 in c:\\users\\dell\\anaconda3\\lib\\site-packages (from selenium) (1.26.16)\n",
      "Collecting trio~=0.17 (from selenium)\n",
      "  Downloading trio-0.24.0-py3-none-any.whl (460 kB)\n",
      "                                              0.0/460.2 kB ? eta -:--:--\n",
      "     ------------------------------------- 460.2/460.2 kB 28.1 MB/s eta 0:00:00\n",
      "Collecting trio-websocket~=0.9 (from selenium)\n",
      "  Downloading trio_websocket-0.11.1-py3-none-any.whl (17 kB)\n",
      "Requirement already satisfied: certifi>=2021.10.8 in c:\\users\\dell\\anaconda3\\lib\\site-packages (from selenium) (2023.5.7)\n",
      "Requirement already satisfied: attrs>=20.1.0 in c:\\users\\dell\\anaconda3\\lib\\site-packages (from trio~=0.17->selenium) (22.1.0)\n",
      "Requirement already satisfied: sortedcontainers in c:\\users\\dell\\anaconda3\\lib\\site-packages (from trio~=0.17->selenium) (2.4.0)\n",
      "Requirement already satisfied: idna in c:\\users\\dell\\anaconda3\\lib\\site-packages (from trio~=0.17->selenium) (3.4)\n",
      "Collecting outcome (from trio~=0.17->selenium)\n",
      "  Downloading outcome-1.3.0.post0-py2.py3-none-any.whl (10 kB)\n",
      "Collecting sniffio>=1.3.0 (from trio~=0.17->selenium)\n",
      "  Using cached sniffio-1.3.0-py3-none-any.whl (10 kB)\n",
      "Requirement already satisfied: cffi>=1.14 in c:\\users\\dell\\anaconda3\\lib\\site-packages (from trio~=0.17->selenium) (1.15.1)\n",
      "Collecting wsproto>=0.14 (from trio-websocket~=0.9->selenium)\n",
      "  Using cached wsproto-1.2.0-py3-none-any.whl (24 kB)\n",
      "Requirement already satisfied: PySocks!=1.5.7,<2.0,>=1.5.6 in c:\\users\\dell\\anaconda3\\lib\\site-packages (from urllib3[socks]<3,>=1.26->selenium) (1.7.1)\n",
      "Requirement already satisfied: pycparser in c:\\users\\dell\\anaconda3\\lib\\site-packages (from cffi>=1.14->trio~=0.17->selenium) (2.21)\n",
      "Collecting h11<1,>=0.9.0 (from wsproto>=0.14->trio-websocket~=0.9->selenium)\n",
      "  Using cached h11-0.14.0-py3-none-any.whl (58 kB)\n",
      "Installing collected packages: sniffio, outcome, h11, wsproto, trio, trio-websocket, selenium\n",
      "  Attempting uninstall: sniffio\n",
      "    Found existing installation: sniffio 1.2.0\n",
      "    Uninstalling sniffio-1.2.0:\n",
      "      Successfully uninstalled sniffio-1.2.0\n",
      "Successfully installed h11-0.14.0 outcome-1.3.0.post0 selenium-4.16.0 sniffio-1.3.0 trio-0.24.0 trio-websocket-0.11.1 wsproto-1.2.0\n"
     ]
    }
   ],
   "source": [
    "pip install selenium"
   ]
  },
  {
   "cell_type": "code",
   "execution_count": 27,
   "metadata": {
    "tags": []
   },
   "outputs": [],
   "source": [
    "tsla_share_price_data.reset_index(inplace=True)"
   ]
  },
  {
   "cell_type": "code",
   "execution_count": 67,
   "metadata": {
    "tags": []
   },
   "outputs": [],
   "source": [
    "url = \"https://www.macrotrends.net/stocks/charts/TSLA/tesla/revenue\""
   ]
  },
  {
   "cell_type": "code",
   "execution_count": 16,
   "metadata": {},
   "outputs": [],
   "source": [
    "page = requests.get(url)\n",
    "soup = BeautifulSoup(page.content,'html.parser')\n",
    "driver = webdriver.Chrome(executable_path='C:\\Users\\DELL\\Downloads\\chrome-win64')  \n",
    "driver.get(url)\n",
    "time.sleep(5)  \n",
    "html_content = driver.page_source"
   ]
  },
  {
   "cell_type": "code",
   "execution_count": 68,
   "metadata": {
    "tags": []
   },
   "outputs": [],
   "source": [
    "soup = BeautifulSoup(html_content,'html.parser')"
   ]
  },
  {
   "cell_type": "code",
   "execution_count": 59,
   "metadata": {
    "tags": []
   },
   "outputs": [],
   "source": [
    "#print(soup.prettify())"
   ]
  },
  {
   "cell_type": "code",
   "execution_count": 69,
   "metadata": {
    "tags": []
   },
   "outputs": [],
   "source": [
    "table = soup.find('table', class_='historical_data_table')"
   ]
  },
  {
   "cell_type": "code",
   "execution_count": 50,
   "metadata": {
    "tags": []
   },
   "outputs": [
    {
     "name": "stdout",
     "output_type": "stream",
     "text": [
      "('2023', '$5,927')\n",
      "('2022', '$6,011')\n",
      "('2021', '$5,090')\n",
      "('2020', '$6,466')\n",
      "('2019', '$8,285')\n",
      "('2018', '$8,547')\n",
      "('2017', '$7,965')\n",
      "('2016', '$9,364')\n",
      "('2015', '$9,296')\n",
      "('2014', '$9,040')\n",
      "('2013', '$8,887')\n",
      "('2012', '$9,551')\n",
      "('2011', '$9,474')\n",
      "('2010', '$9,078')\n",
      "('2009', '$8,806')\n"
     ]
    }
   ],
   "source": [
    "tesla_revenue_data = []\n",
    "\n",
    "for row in table.find_all('tr')[1:]: \n",
    "    cells = row.find_all('td')\n",
    "\n",
    "    # Extract the text from each cell\n",
    "    date = cells[0].text.strip()       # Date value\n",
    "    revenue = cells[1].text.strip()    # Revenue value\n",
    "\n",
    "    tesla_revenue_data.append((date, revenue))\n",
    "\n",
    "for record in tesla_revenue_data:\n",
    "    print(record)"
   ]
  },
  {
   "cell_type": "code",
   "execution_count": 70,
   "metadata": {
    "tags": []
   },
   "outputs": [],
   "source": [
    "tables = soup.find_all('table', class_='historical_data_table')\n",
    "\n",
    "# Filter tables to find the one with the desired <th> element\n",
    "for table in tables:\n",
    "    th = table.find('th')\n",
    "    if th and 'Tesla Quarterly Revenue' in th.text:\n",
    "        # This is the desired table\n",
    "        tesla_table = table\n",
    "        break"
   ]
  },
  {
   "cell_type": "code",
   "execution_count": 71,
   "metadata": {},
   "outputs": [
    {
     "name": "stdout",
     "output_type": "stream",
     "text": [
      "('2023-09-30', '$23,350')\n",
      "('2023-06-30', '$24,927')\n",
      "('2023-03-31', '$23,329')\n",
      "('2022-12-31', '$24,318')\n",
      "('2022-09-30', '$21,454')\n",
      "('2022-06-30', '$16,934')\n",
      "('2022-03-31', '$18,756')\n",
      "('2021-12-31', '$17,719')\n",
      "('2021-09-30', '$13,757')\n",
      "('2021-06-30', '$11,958')\n",
      "('2021-03-31', '$10,389')\n",
      "('2020-12-31', '$10,744')\n",
      "('2020-09-30', '$8,771')\n",
      "('2020-06-30', '$6,036')\n",
      "('2020-03-31', '$5,985')\n",
      "('2019-12-31', '$7,384')\n",
      "('2019-09-30', '$6,303')\n",
      "('2019-06-30', '$6,350')\n",
      "('2019-03-31', '$4,541')\n",
      "('2018-12-31', '$7,226')\n",
      "('2018-09-30', '$6,824')\n",
      "('2018-06-30', '$4,002')\n",
      "('2018-03-31', '$3,409')\n",
      "('2017-12-31', '$3,288')\n",
      "('2017-09-30', '$2,985')\n",
      "('2017-06-30', '$2,790')\n",
      "('2017-03-31', '$2,696')\n",
      "('2016-12-31', '$2,285')\n",
      "('2016-09-30', '$2,298')\n",
      "('2016-06-30', '$1,270')\n",
      "('2016-03-31', '$1,147')\n",
      "('2015-12-31', '$1,214')\n",
      "('2015-09-30', '$937')\n",
      "('2015-06-30', '$955')\n",
      "('2015-03-31', '$940')\n",
      "('2014-12-31', '$957')\n",
      "('2014-09-30', '$852')\n",
      "('2014-06-30', '$769')\n",
      "('2014-03-31', '$621')\n",
      "('2013-12-31', '$615')\n",
      "('2013-09-30', '$431')\n",
      "('2013-06-30', '$405')\n",
      "('2013-03-31', '$562')\n",
      "('2012-12-31', '$306')\n",
      "('2012-09-30', '$50')\n",
      "('2012-06-30', '$27')\n",
      "('2012-03-31', '$30')\n",
      "('2011-12-31', '$39')\n",
      "('2011-09-30', '$58')\n",
      "('2011-06-30', '$58')\n",
      "('2011-03-31', '$49')\n",
      "('2010-12-31', '$36')\n",
      "('2010-09-30', '$31')\n",
      "('2010-06-30', '$28')\n",
      "('2010-03-31', '$21')\n",
      "('2009-12-31', '')\n",
      "('2009-09-30', '$46')\n",
      "('2009-06-30', '$27')\n"
     ]
    }
   ],
   "source": [
    "tesla_revenue_data = []\n",
    "\n",
    "# Iterate through the rows of the table\n",
    "for row in table.find_all('tr')[1:]:  # skip the first row (header)\n",
    "    # Find all cell tags\n",
    "    cells = row.find_all('td')\n",
    "\n",
    "    # Extract the text from each cell\n",
    "    date = cells[0].text.strip()       # Date value\n",
    "    revenue = cells[1].text.strip()    # Revenue value\n",
    "\n",
    "    # Append the date and revenue to the list\n",
    "    tesla_revenue_data.append((date, revenue))\n",
    "\n",
    "# Now tesla_revenue_data contains all the extracted information\n",
    "for record in tesla_revenue_data:\n",
    "    print(record)"
   ]
  },
  {
   "cell_type": "code",
   "execution_count": 74,
   "metadata": {
    "tags": []
   },
   "outputs": [
    {
     "data": {
      "text/html": [
       "<div>\n",
       "<style scoped>\n",
       "    .dataframe tbody tr th:only-of-type {\n",
       "        vertical-align: middle;\n",
       "    }\n",
       "\n",
       "    .dataframe tbody tr th {\n",
       "        vertical-align: top;\n",
       "    }\n",
       "\n",
       "    .dataframe thead th {\n",
       "        text-align: right;\n",
       "    }\n",
       "</style>\n",
       "<table border=\"1\" class=\"dataframe\">\n",
       "  <thead>\n",
       "    <tr style=\"text-align: right;\">\n",
       "      <th></th>\n",
       "      <th>Date</th>\n",
       "      <th>Revenue</th>\n",
       "    </tr>\n",
       "  </thead>\n",
       "  <tbody>\n",
       "    <tr>\n",
       "      <th>53</th>\n",
       "      <td>2010-06-30</td>\n",
       "      <td>$28</td>\n",
       "    </tr>\n",
       "    <tr>\n",
       "      <th>54</th>\n",
       "      <td>2010-03-31</td>\n",
       "      <td>$21</td>\n",
       "    </tr>\n",
       "    <tr>\n",
       "      <th>55</th>\n",
       "      <td>2009-12-31</td>\n",
       "      <td></td>\n",
       "    </tr>\n",
       "    <tr>\n",
       "      <th>56</th>\n",
       "      <td>2009-09-30</td>\n",
       "      <td>$46</td>\n",
       "    </tr>\n",
       "    <tr>\n",
       "      <th>57</th>\n",
       "      <td>2009-06-30</td>\n",
       "      <td>$27</td>\n",
       "    </tr>\n",
       "  </tbody>\n",
       "</table>\n",
       "</div>"
      ],
      "text/plain": [
       "          Date Revenue\n",
       "53  2010-06-30     $28\n",
       "54  2010-03-31     $21\n",
       "55  2009-12-31        \n",
       "56  2009-09-30     $46\n",
       "57  2009-06-30     $27"
      ]
     },
     "execution_count": 74,
     "metadata": {},
     "output_type": "execute_result"
    }
   ],
   "source": [
    "tesla_revenue = pd.DataFrame(tesla_revenue_data,columns=['Date','Revenue'])\n",
    "tesla_revenue.tail()"
   ]
  },
  {
   "cell_type": "markdown",
   "metadata": {
    "tags": []
   },
   "source": [
    "Question 3 - Extracting GameStop Stock Data Using yfinance - 2 Points"
   ]
  },
  {
   "cell_type": "code",
   "execution_count": 8,
   "metadata": {
    "tags": []
   },
   "outputs": [
    {
     "data": {
      "text/html": [
       "<div>\n",
       "<style scoped>\n",
       "    .dataframe tbody tr th:only-of-type {\n",
       "        vertical-align: middle;\n",
       "    }\n",
       "\n",
       "    .dataframe tbody tr th {\n",
       "        vertical-align: top;\n",
       "    }\n",
       "\n",
       "    .dataframe thead th {\n",
       "        text-align: right;\n",
       "    }\n",
       "</style>\n",
       "<table border=\"1\" class=\"dataframe\">\n",
       "  <thead>\n",
       "    <tr style=\"text-align: right;\">\n",
       "      <th></th>\n",
       "      <th>Date</th>\n",
       "      <th>Open</th>\n",
       "      <th>High</th>\n",
       "      <th>Low</th>\n",
       "      <th>Close</th>\n",
       "      <th>Volume</th>\n",
       "      <th>Dividends</th>\n",
       "      <th>Stock Splits</th>\n",
       "    </tr>\n",
       "  </thead>\n",
       "  <tbody>\n",
       "    <tr>\n",
       "      <th>0</th>\n",
       "      <td>2002-02-13 00:00:00-05:00</td>\n",
       "      <td>1.620129</td>\n",
       "      <td>1.693350</td>\n",
       "      <td>1.603296</td>\n",
       "      <td>1.691667</td>\n",
       "      <td>76216000</td>\n",
       "      <td>0.0</td>\n",
       "      <td>0.0</td>\n",
       "    </tr>\n",
       "    <tr>\n",
       "      <th>1</th>\n",
       "      <td>2002-02-14 00:00:00-05:00</td>\n",
       "      <td>1.712707</td>\n",
       "      <td>1.716074</td>\n",
       "      <td>1.670626</td>\n",
       "      <td>1.683250</td>\n",
       "      <td>11021600</td>\n",
       "      <td>0.0</td>\n",
       "      <td>0.0</td>\n",
       "    </tr>\n",
       "    <tr>\n",
       "      <th>2</th>\n",
       "      <td>2002-02-15 00:00:00-05:00</td>\n",
       "      <td>1.683250</td>\n",
       "      <td>1.687458</td>\n",
       "      <td>1.658001</td>\n",
       "      <td>1.674834</td>\n",
       "      <td>8389600</td>\n",
       "      <td>0.0</td>\n",
       "      <td>0.0</td>\n",
       "    </tr>\n",
       "    <tr>\n",
       "      <th>3</th>\n",
       "      <td>2002-02-19 00:00:00-05:00</td>\n",
       "      <td>1.666418</td>\n",
       "      <td>1.666418</td>\n",
       "      <td>1.578047</td>\n",
       "      <td>1.607504</td>\n",
       "      <td>7410400</td>\n",
       "      <td>0.0</td>\n",
       "      <td>0.0</td>\n",
       "    </tr>\n",
       "    <tr>\n",
       "      <th>4</th>\n",
       "      <td>2002-02-20 00:00:00-05:00</td>\n",
       "      <td>1.615921</td>\n",
       "      <td>1.662210</td>\n",
       "      <td>1.603296</td>\n",
       "      <td>1.662210</td>\n",
       "      <td>6892800</td>\n",
       "      <td>0.0</td>\n",
       "      <td>0.0</td>\n",
       "    </tr>\n",
       "  </tbody>\n",
       "</table>\n",
       "</div>"
      ],
      "text/plain": [
       "                       Date      Open      High       Low     Close    Volume  \\\n",
       "0 2002-02-13 00:00:00-05:00  1.620129  1.693350  1.603296  1.691667  76216000   \n",
       "1 2002-02-14 00:00:00-05:00  1.712707  1.716074  1.670626  1.683250  11021600   \n",
       "2 2002-02-15 00:00:00-05:00  1.683250  1.687458  1.658001  1.674834   8389600   \n",
       "3 2002-02-19 00:00:00-05:00  1.666418  1.666418  1.578047  1.607504   7410400   \n",
       "4 2002-02-20 00:00:00-05:00  1.615921  1.662210  1.603296  1.662210   6892800   \n",
       "\n",
       "   Dividends  Stock Splits  \n",
       "0        0.0           0.0  \n",
       "1        0.0           0.0  \n",
       "2        0.0           0.0  \n",
       "3        0.0           0.0  \n",
       "4        0.0           0.0  "
      ]
     },
     "execution_count": 8,
     "metadata": {},
     "output_type": "execute_result"
    }
   ],
   "source": [
    "GME = yf.Ticker(\"GME\")\n",
    "GME_data = GME.history(period=\"max\")\n",
    "GME_data.reset_index(inplace=True)\n",
    "GME_data.head()"
   ]
  },
  {
   "cell_type": "markdown",
   "metadata": {},
   "source": [
    "Question 4 - Extracting GameStop Revenue Data Using Webscraping - 1 Points"
   ]
  },
  {
   "cell_type": "code",
   "execution_count": null,
   "metadata": {},
   "outputs": [],
   "source": [
    "url = \"https://www.macrotrends.net/stocks/charts/GME/gamestop/revenue\""
   ]
  },
  {
   "cell_type": "code",
   "execution_count": null,
   "metadata": {},
   "outputs": [],
   "source": [
    "driver = webdriver.Chrome(executable_path='C:\\Users\\DELL\\Downloads\\chrome-win64')  \n",
    "driver.get(url)\n",
    "time.sleep(5)  \n",
    "html_content = driver.page_source"
   ]
  },
  {
   "cell_type": "code",
   "execution_count": 78,
   "metadata": {
    "tags": []
   },
   "outputs": [],
   "source": [
    "soup = BeautifulSoup(html_content,'html.parser')"
   ]
  },
  {
   "cell_type": "code",
   "execution_count": 79,
   "metadata": {
    "tags": []
   },
   "outputs": [],
   "source": [
    "tables = soup.find_all('table', class_='historical_data_table table')\n",
    "\n",
    "# Filter tables to find the one with the desired <th> element\n",
    "for table in tables:\n",
    "    th = table.find('th')\n",
    "    if th and 'GameStop Quarterly Revenue' in th.text:\n",
    "        # This is the desired table\n",
    "        gme_table = table\n",
    "        break"
   ]
  },
  {
   "cell_type": "code",
   "execution_count": 80,
   "metadata": {
    "tags": []
   },
   "outputs": [
    {
     "name": "stdout",
     "output_type": "stream",
     "text": [
      "('2023-10-31', '$1,078')\n",
      "('2023-07-31', '$1,164')\n",
      "('2023-04-30', '$1,237')\n",
      "('2023-01-31', '$2,226')\n",
      "('2022-10-31', '$1,186')\n",
      "('2022-07-31', '$1,136')\n",
      "('2022-04-30', '$1,378')\n",
      "('2022-01-31', '$2,254')\n",
      "('2021-10-31', '$1,297')\n",
      "('2021-07-31', '$1,183')\n",
      "('2021-04-30', '$1,277')\n",
      "('2021-01-31', '$2,122')\n",
      "('2020-10-31', '$1,005')\n",
      "('2020-07-31', '$942')\n",
      "('2020-04-30', '$1,021')\n",
      "('2020-01-31', '$2,194')\n",
      "('2019-10-31', '$1,439')\n",
      "('2019-07-31', '$1,286')\n",
      "('2019-04-30', '$1,548')\n",
      "('2019-01-31', '$3,063')\n",
      "('2018-10-31', '$1,935')\n",
      "('2018-07-31', '$1,501')\n",
      "('2018-04-30', '$1,786')\n",
      "('2018-01-31', '$2,825')\n",
      "('2017-10-31', '$1,989')\n",
      "('2017-07-31', '$1,688')\n",
      "('2017-04-30', '$2,046')\n",
      "('2017-01-31', '$2,403')\n",
      "('2016-10-31', '$1,959')\n",
      "('2016-07-31', '$1,632')\n",
      "('2016-04-30', '$1,972')\n",
      "('2016-01-31', '$3,525')\n",
      "('2015-10-31', '$2,016')\n",
      "('2015-07-31', '$1,762')\n",
      "('2015-04-30', '$2,061')\n",
      "('2015-01-31', '$3,476')\n",
      "('2014-10-31', '$2,092')\n",
      "('2014-07-31', '$1,731')\n",
      "('2014-04-30', '$1,996')\n",
      "('2014-01-31', '$3,684')\n",
      "('2013-10-31', '$2,107')\n",
      "('2013-07-31', '$1,384')\n",
      "('2013-04-30', '$1,865')\n",
      "('2013-01-31', '$3,562')\n",
      "('2012-10-31', '$1,773')\n",
      "('2012-07-31', '$1,550')\n",
      "('2012-04-30', '$2,002')\n",
      "('2012-01-31', '$3,579')\n",
      "('2011-10-31', '$1,947')\n",
      "('2011-07-31', '$1,744')\n",
      "('2011-04-30', '$2,281')\n",
      "('2011-01-31', '$3,693')\n",
      "('2010-10-31', '$1,899')\n",
      "('2010-07-31', '$1,799')\n",
      "('2010-04-30', '$2,083')\n",
      "('2010-01-31', '$3,524')\n",
      "('2009-10-31', '$1,835')\n",
      "('2009-07-31', '$1,739')\n",
      "('2009-04-30', '$1,981')\n",
      "('2009-01-31', '$3,492')\n"
     ]
    }
   ],
   "source": [
    "gme_revenue_data = []\n",
    "\n",
    "for row in table.find_all('tr')[1:]:  # skip the first row (header)\n",
    "    # Find all cell tags\n",
    "    cells = row.find_all('td')\n",
    "\n",
    "    # Extract the text from each cell\n",
    "    date = cells[0].text.strip()       # Date value\n",
    "    revenue = cells[1].text.strip()    # Revenue value\n",
    "\n",
    "    # Append the date and revenue to the list\n",
    "    gme_revenue_data.append((date, revenue))\n",
    "\n",
    "# Now tesla_revenue_data contains all the extracted information\n",
    "for record in gme_revenue_data:\n",
    "    print(record)"
   ]
  },
  {
   "cell_type": "code",
   "execution_count": 81,
   "metadata": {
    "tags": []
   },
   "outputs": [
    {
     "data": {
      "text/html": [
       "<div>\n",
       "<style scoped>\n",
       "    .dataframe tbody tr th:only-of-type {\n",
       "        vertical-align: middle;\n",
       "    }\n",
       "\n",
       "    .dataframe tbody tr th {\n",
       "        vertical-align: top;\n",
       "    }\n",
       "\n",
       "    .dataframe thead th {\n",
       "        text-align: right;\n",
       "    }\n",
       "</style>\n",
       "<table border=\"1\" class=\"dataframe\">\n",
       "  <thead>\n",
       "    <tr style=\"text-align: right;\">\n",
       "      <th></th>\n",
       "      <th>Date</th>\n",
       "      <th>Revenue</th>\n",
       "    </tr>\n",
       "  </thead>\n",
       "  <tbody>\n",
       "    <tr>\n",
       "      <th>55</th>\n",
       "      <td>2010-01-31</td>\n",
       "      <td>$3,524</td>\n",
       "    </tr>\n",
       "    <tr>\n",
       "      <th>56</th>\n",
       "      <td>2009-10-31</td>\n",
       "      <td>$1,835</td>\n",
       "    </tr>\n",
       "    <tr>\n",
       "      <th>57</th>\n",
       "      <td>2009-07-31</td>\n",
       "      <td>$1,739</td>\n",
       "    </tr>\n",
       "    <tr>\n",
       "      <th>58</th>\n",
       "      <td>2009-04-30</td>\n",
       "      <td>$1,981</td>\n",
       "    </tr>\n",
       "    <tr>\n",
       "      <th>59</th>\n",
       "      <td>2009-01-31</td>\n",
       "      <td>$3,492</td>\n",
       "    </tr>\n",
       "  </tbody>\n",
       "</table>\n",
       "</div>"
      ],
      "text/plain": [
       "          Date Revenue\n",
       "55  2010-01-31  $3,524\n",
       "56  2009-10-31  $1,835\n",
       "57  2009-07-31  $1,739\n",
       "58  2009-04-30  $1,981\n",
       "59  2009-01-31  $3,492"
      ]
     },
     "execution_count": 81,
     "metadata": {},
     "output_type": "execute_result"
    }
   ],
   "source": [
    "gme_revenue = pd.DataFrame(gme_revenue_data,columns=['Date','Revenue'])\n",
    "gme_revenue.tail()"
   ]
  },
  {
   "cell_type": "markdown",
   "metadata": {},
   "source": [
    "Question 5 - Tesla Stock and Revenue Dashboard - 2 Points"
   ]
  },
  {
   "cell_type": "code",
   "execution_count": 55,
   "metadata": {
    "tags": []
   },
   "outputs": [
    {
     "data": {
      "image/png": "[encoded data removed]",
      "text/plain": [
       "<Figure size 1200x800 with 2 Axes>"
      ]
     },
     "metadata": {},
     "output_type": "display_data"
    }
   ],
   "source": [
    "import matplotlib.pyplot as plt\n",
    "import matplotlib.dates as mdates\n",
    "\n",
    "# Create a figure with two subplots\n",
    "fig, ax1 = plt.subplots(2, 1, figsize=(12, 8))\n",
    "\n",
    "# First plot: Tesla stock data\n",
    "ax1[0].plot(tsla_share_price_data.index, tsla_share_price_data['Close'], label='Close Price', color='b')\n",
    "ax1[0].set_xlabel('Date')\n",
    "ax1[0].set_ylabel('Close Price ($)')\n",
    "ax1[0].set_title('Tesla Stock Price')\n",
    "ax1[0].xaxis.set_major_formatter(mdates.DateFormatter('%Y-%m'))\n",
    "\n",
    "# Second plot: Revenue data\n",
    "revenue_df = pd.DataFrame(tesla_revenue_data,columns=['Date','Revenue'])\n",
    "ax1[1].bar(revenue_df['Date'], revenue_df['Revenue'], label='Quarterly Revenue', color='g')\n",
    "ax1[1].set_xlabel('Date')\n",
    "ax1[1].set_ylabel('Revenue (Millions of US $)')\n",
    "ax1[1].set_title('Tesla Revenue')\n",
    "ax1[1].xaxis.set_major_formatter(mdates.DateFormatter('%Y-%m'))\n",
    "\n",
    "# Improve layout\n",
    "plt.tight_layout()\n",
    "plt.show()"
   ]
  },
  {
   "cell_type": "markdown",
   "metadata": {},
   "source": [
    "Question 6 - GameStop Stock and Revenue Dashboard- 2 Points"
   ]
  },
  {
   "cell_type": "code",
   "execution_count": 59,
   "metadata": {
    "tags": []
   },
   "outputs": [
    {
     "data": {
      "image/png": "[encoded data removed]",
      "text/plain": [
       "<Figure size 1200x800 with 2 Axes>"
      ]
     },
     "metadata": {},
     "output_type": "display_data"
    }
   ],
   "source": [
    "import matplotlib.pyplot as plt\n",
    "import matplotlib.dates as mdates\n",
    "\n",
    "# Create a figure with two subplots\n",
    "fig, ax1 = plt.subplots(2, 1, figsize=(12, 8))\n",
    "\n",
    "# First plot: Tesla stock data\n",
    "ax1[0].plot(GME_data.index, GME_data['Close'], label='Close Price', color='b')\n",
    "ax1[0].set_xlabel('Date')\n",
    "ax1[0].set_ylabel('Close Price ($)')\n",
    "ax1[0].set_title('GME Stock Price')\n",
    "ax1[0].xaxis.set_major_formatter(mdates.DateFormatter('%Y-%m'))\n",
    "\n",
    "# Second plot: Revenue data\n",
    "revenue_df = pd.DataFrame(gme_revenue_data,columns=['Date','Revenue'])\n",
    "ax1[1].bar(revenue_df['Date'], revenue_df['Revenue'], label='Quarterly Revenue', color='g')\n",
    "ax1[1].set_xlabel('Date')\n",
    "ax1[1].set_ylabel('Revenue (Millions of US $)')\n",
    "ax1[1].set_title('GME Revenue')\n",
    "ax1[1].xaxis.set_major_formatter(mdates.DateFormatter('%Y-%m'))\n",
    "\n",
    "# Improve layout\n",
    "plt.tight_layout()\n",
    "plt.show()"
   ]
  },
  {
   "cell_type": "markdown",
   "metadata": {},
   "source": [
    "Question 7 - Sharing your Assignment Notebook - 2 Points"
   ]
  },
  {
   "cell_type": "code",
   "execution_count": null,
   "metadata": {},
   "outputs": [],
   "source": []
  }
 ],
 "metadata": {
  "kernelspec": {
   "display_name": "Python 3 (ipykernel)",
   "language": "python",
   "name": "python3"
  },
  "language_info": {
   "codemirror_mode": {
    "name": "ipython",
    "version": 3
   },
   "file_extension": ".py",
   "mimetype": "text/x-python",
   "name": "python",
   "nbconvert_exporter": "python",
   "pygments_lexer": "ipython3",
   "version": "3.11.3"
  }
 },
 "nbformat": 4,
 "nbformat_minor": 4
}
